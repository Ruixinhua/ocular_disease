{
 "cells": [
  {
   "cell_type": "markdown",
   "metadata": {
    "collapsed": true,
    "pycharm": {
     "name": "#%% md\n"
    }
   },
   "source": [
    "### Project - Ocular Disease Recognition\n",
    "The following is a detailed README file that allows the user to re-run data pre-processing, training, validation and evaluation.\n",
    "I did some hyper-parameter tuning and implement several models to recognize whether the color fundus images from left and right eyes is normal or disease.\n",
    "The best hyper-parameter was selected for each model, and you can reproduce the searching process and get exactly the same result as I show you."
   ]
  },
  {
   "cell_type": "markdown",
   "metadata": {},
   "source": [
    "### Install requirements"
   ]
  },
  {
   "cell_type": "code",
   "execution_count": null,
   "metadata": {
    "pycharm": {
     "name": "#%%\n"
    }
   },
   "outputs": [],
   "source": [
    "! pip install -r requirements.txt"
   ]
  },
  {
   "cell_type": "markdown",
   "metadata": {},
   "source": [
    "Note that as I use the pytorch framework for the project, and if you need to use GPU to accelerate the process,\n",
    "you maybe need to check the corresponding torch version for your CUDA driver in the website: https://pytorch.org/get-started/previous-versions/.\n",
    "For example, I used torch 1.8.1+cu111 and 0.9.1+cu111 for this project, so I can install the torch and torchvision by the following command:"
   ]
  },
  {
   "cell_type": "code",
   "execution_count": null,
   "metadata": {
    "pycharm": {
     "name": "#%%\n"
    }
   },
   "outputs": [],
   "source": [
    "! pip install torch==1.8.1+cu111 torchvision==0.9.1+cu111 -f https://download.pytorch.org/whl/torch_stable.html"
   ]
  },
  {
   "cell_type": "markdown",
   "metadata": {
    "pycharm": {
     "name": "#%% md\n"
    }
   },
   "source": [
    "### Directory Structure\n",
    "```\n",
    "Ocular disease\n",
    "-base\n",
    "   |\n",
    "    ----> __init__.py\n",
    "    ----> base_model.py\n",
    "    ----> base_trainer.py\n",
    "- figs\n",
    "    |\n",
    "     ---> N_CGM.png\n",
    "-logger\n",
    "   |\n",
    "    ----> __init__.py\n",
    "    ----> logger.py\n",
    "    ----> logger_config.json\n",
    "    ----> visualization.py\n",
    "-models\n",
    "   |\n",
    "    ----> __init__.py\n",
    "    ----> pretrained_model.py\n",
    "    ----> vanilla_vae.py\n",
    "-saved\n",
    "   |\n",
    "    ----> log\n",
    "          |\n",
    "           ---> densenet121\n",
    "                       .\n",
    "                       .\n",
    "                       .\n",
    "           ---> vgg19_bn\n",
    "    ----> models\n",
    "          |\n",
    "           ---> densenet121\n",
    "                       .\n",
    "                       .\n",
    "                       .\n",
    "           ---> vgg19_bn\n",
    "    ----> result\n",
    "          |\n",
    "           --->hyper_tuning.csv\n",
    "          |\n",
    "           --->pretrained_model_compare.csv\n",
    "-utils\n",
    "   |\n",
    "    ---->__init__.py\n",
    "    ---->_data_loader.py\n",
    "    ---->_image_process.py\n",
    "    ---->_loss_helper.py\n",
    "    ---->_metric.py\n",
    "    ---->_parse_config.py\n",
    "    ---->_plotting.py\n",
    "    ---->_tools.py\n",
    "    ---->_trainer.py\n",
    "data_augment.py\n",
    "data_preprocess.py\n",
    "dataset_analysis.ipynb\n",
    "dataset_split.py\n",
    "experiment.ipynb\n",
    "experiment.py\n",
    "pretrained_model.json\n",
    "README.ipynb\n",
    "requirements.txt\n",
    "run_model.py\n",
    "train.py\n",
    "```"
   ]
  },
  {
   "cell_type": "markdown",
   "metadata": {
    "pycharm": {
     "name": "#%% md\n"
    }
   },
   "source": [
    "### Data pre-processing\n",
    "\n",
    "Before modelling data, I did some pre-processing work on the original ODIR-5K dataset.\n",
    "As the author of ODIR-5K dataset provided a preprocessing_images folder, I will use that folder for training and validation.\n",
    "The preprocessing_images folder only contains 6392 images, compare to the original \"Training Images\" folder which contains 7000 images,\n",
    "it removes some low quality images, crop and resize all images to 512*512. For details about dataset analysis, check jupyter notebook [dataset_analysis](dataset_analysis.ipynb)."
   ]
  },
  {
   "cell_type": "code",
   "execution_count": 1,
   "metadata": {
    "pycharm": {
     "name": "#%%\n"
    }
   },
   "outputs": [],
   "source": [
    "# run data pre-process on Testing Images by default with crop tasks\n",
    "! python data_preprocess.py"
   ]
  },
  {
   "cell_type": "markdown",
   "metadata": {
    "pycharm": {
     "name": "#%% md\n"
    }
   },
   "source": [
    "The flag used in data_preprocess script includes:\n",
    "- -s: source path, by default is \"dataset/ODIR-5K/ODIR-5K/Testing Images\"\n",
    "- -d: destination path, by default is \"dataset/test_crop\"\n",
    "- -w: width of image after resizing, by default is 512, get 512*512 square images.\n",
    "- -t: specify the task from \"crop\" and \"resize\"\n",
    "- -q: quality of images, by default is 100\n",
    "- -k: whether keep aspect ratio, by default is false.\n",
    "\n",
    "You can check the pre-process [log](saved/log/data_process.log) under directory saved/log, with filename is data_process.log"
   ]
  },
  {
   "cell_type": "code",
   "execution_count": 4,
   "metadata": {
    "pycharm": {
     "name": "#%%\n"
    }
   },
   "outputs": [],
   "source": [
    "# resize and flip test images\n",
    "! python data_preprocess.py -s dataset/test_crop -d dataset/test_512 -t resize"
   ]
  },
  {
   "cell_type": "code",
   "execution_count": 1,
   "metadata": {
    "pycharm": {
     "name": "#%%\n"
    }
   },
   "outputs": [],
   "source": [
    "# resize and flip  train images\n",
    "! python data_preprocess.py -s dataset/preprocessed_images -d dataset/train_512 -w 512 -t resize"
   ]
  },
  {
   "cell_type": "markdown",
   "metadata": {},
   "source": [
    "### Dataset split\n",
    "The preprocessed image's dataset are divided into train, valid, and test set according to the number of each class with a pre-defined ratio.\n",
    "I tried to find the labels of \"ODIR-5K Testing Images\", but I did not find it, so I can not use it to evaluate my models.\n",
    "That is why I split another test set for this task.\n",
    "Run the dataset_split.py script, it will return the csv file of each partition.\n",
    "The flag used in the dataset_split.py includes:\n",
    "\n",
    "- -f: the path of full_df.csv, default is \"dataset/full_df.csv\"\n",
    "- -v: the ratio of validation set, default is 0.15\n",
    "- -t: the ratio of test set, default is 0.15\n",
    "- -s: the saved directory of produced csv file(train_df.csv, valid_df.csv, test_df.csv), default is \"dataset/\""
   ]
  },
  {
   "cell_type": "code",
   "execution_count": 8,
   "metadata": {
    "pycharm": {
     "name": "#%%\n"
    }
   },
   "outputs": [
    {
     "name": "stdout",
     "output_type": "stream",
     "text": [
      "Training set info:\n",
      " Count: 5114, positive label(N): 2299, negative label(not N): 2815\n",
      "Validation set info:\n",
      " Count: 639, positive label(N): 287, negative label(not N): 352\n",
      "Test set info:\n",
      " Count: 639, positive label(N): 287, negative label(not N): 352\n"
     ]
    }
   ],
   "source": [
    "# run dataset_split.py script\n",
    "! python dataset_split.py -v 0.1 -t 0.1"
   ]
  },
  {
   "cell_type": "markdown",
   "metadata": {
    "pycharm": {
     "name": "#%% md\n"
    }
   },
   "source": [
    "This will generate three files under saved directory(-s): train_df.csv, valid_df.csv, test_df.csv\n",
    "#### Data augmentation\n",
    "The Training set is not balanced, the number of negative label(2463) is higher than the number of positive label(2011).\n",
    "So we need to take some measures to balance the set. The most popular strategies include down-sampling and up-sampling.\n",
    "Therefore, some image augmentation strategies are applied to argument dataset through script data_argument.py with flags:\n",
    "- -t: the path to train_df.csv, default is dataset/train_df.csv\n",
    "- -s: the path to new saved train_df_aug.csv, default is dataset/train_df_aug.csv\n",
    "- -r: the path to root dataset, default is dataset/train_512\n",
    "- -a: the path to augment dataset, default is dataset/train_aug"
   ]
  },
  {
   "cell_type": "code",
   "execution_count": null,
   "metadata": {
    "pycharm": {
     "name": "#%%\n"
    }
   },
   "outputs": [],
   "source": [
    "! python data_augment.py"
   ]
  },
  {
   "cell_type": "markdown",
   "metadata": {
    "pycharm": {
     "name": "#%% md\n"
    }
   },
   "source": [
    "### Experiment\n",
    "As the main part of the dataset is image data, I consider to start with a series of CNN models with pretrained weight in torchvision models library.\n",
    "There are many CNN models pre-defined in pytorch, and you can find a list [here](https://pytorch.org/vision/stable/models.html#classification).\n",
    "For these pretrained model, I defined a configuration file named [pretrained_model.json](pretrained_model.json).\n",
    "For evaluation methods, I recorded loss of training and validation sets and calculated AUC(area under curve) and Accuracy for comparison.\n",
    "\n",
    "#### Pretrained model fine-tuning\n",
    "The most popular CNN model family is ResNet, VGG, and DenseNet, so for the rest of experiments, I will focus on them.\n",
    "And they all have some variant models, it will take hours to train these models even with GPU resources.\n",
    "Therefore, I firstly start with a relative small model named GoogLeNet to find the best hyper-parameter that is not tightly related with specific model.\n",
    "Such as image size, batch size and learning rate, in order to save time, I will not use grid search.\n",
    "Instead, each time when a group of hyper-parameters is tested, the best one will apply to the next group directly."
   ]
  },
  {
   "cell_type": "markdown",
   "metadata": {
    "pycharm": {
     "name": "#%% md\n"
    }
   },
   "source": [
    "To train a single pretrained model, run the script train.py with flags:\n",
    "- -c: config file, the configuration of model.\n",
    "- -r: resume from saved checkpoint\n",
    "- -d: indices of GPUs to enable(default use all)\n",
    "- -m: specify the pretrained model (such as: resnet50)\n",
    "- -f: whether freeze the pretrained model, default is 1 (freeze parameters)\n",
    "- --bs: batch size\n",
    "- --lr: learning rate"
   ]
  },
  {
   "cell_type": "code",
   "execution_count": null,
   "metadata": {
    "pycharm": {
     "name": "#%%\n"
    }
   },
   "outputs": [],
   "source": [
    "# An example to run model\n",
    "! python train.py -c pretrained_model.json -m resnet34\n"
   ]
  },
  {
   "cell_type": "markdown",
   "metadata": {
    "pycharm": {
     "name": "#%% md\n"
    }
   },
   "source": [
    "In order to reproduce the experiment, you can check and run in experiment.ipynb. Or excute the following command."
   ]
  },
  {
   "cell_type": "code",
   "execution_count": null,
   "metadata": {
    "pycharm": {
     "name": "#%%\n"
    }
   },
   "outputs": [],
   "source": [
    "! python experiment.py"
   ]
  },
  {
   "cell_type": "code",
   "execution_count": 12,
   "metadata": {
    "pycharm": {
     "name": "#%%\n"
    }
   },
   "outputs": [
    {
     "name": "stdout",
     "output_type": "stream",
     "text": [
      "^C\n"
     ]
    }
   ],
   "source": [
    "# run the tensorboard to check the log of training loss and validation loss.\n",
    "# maybe you need to run this in terminal.\n",
    "! tensorboard --logdir saved/log"
   ]
  },
  {
   "cell_type": "code",
   "execution_count": 1,
   "metadata": {
    "pycharm": {
     "name": "#%%\n"
    }
   },
   "outputs": [
    {
     "name": "stdout",
     "output_type": "stream",
     "text": [
      "b'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'\n"
     ]
    }
   ],
   "source": [
    "import base64\n",
    "f = open(\"figs/vgg11_bn_loss.png\", \"rb\") \n",
    "# save to base64 code\n",
    "ls_f = base64.b64encode(f.read()) \n",
    "f.close()\n",
    "print(ls_f)"
   ]
  },
  {
   "cell_type": "markdown",
   "metadata": {
    "pycharm": {
     "name": "#%% md\n"
    }
   },
   "source": [
    "![avatar](data:image/png;base64,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)"
   ]
  },
  {
   "cell_type": "code",
   "execution_count": 8,
   "metadata": {
    "pycharm": {
     "name": "#%%\n"
    }
   },
   "outputs": [
    {
     "data": {
      "text/html": [
       "<div>\n",
       "<style scoped>\n",
       "    .dataframe tbody tr th:only-of-type {\n",
       "        vertical-align: middle;\n",
       "    }\n",
       "\n",
       "    .dataframe tbody tr th {\n",
       "        vertical-align: top;\n",
       "    }\n",
       "\n",
       "    .dataframe thead th {\n",
       "        text-align: right;\n",
       "    }\n",
       "</style>\n",
       "<table border=\"1\" class=\"dataframe\">\n",
       "  <thead>\n",
       "    <tr style=\"text-align: right;\">\n",
       "      <th></th>\n",
       "      <th>model</th>\n",
       "      <th>val_auc</th>\n",
       "      <th>val_acc</th>\n",
       "      <th>test_auc</th>\n",
       "      <th>test_acc</th>\n",
       "      <th>hyper_parameters</th>\n",
       "      <th>parameters</th>\n",
       "      <th>FLOPS</th>\n",
       "      <th>Time Consuming</th>\n",
       "    </tr>\n",
       "  </thead>\n",
       "  <tbody>\n",
       "    <tr>\n",
       "      <th>0</th>\n",
       "      <td>GoogLeNet</td>\n",
       "      <td>0.6749</td>\n",
       "      <td>0.6322</td>\n",
       "      <td>0.6714</td>\n",
       "      <td>0.6338</td>\n",
       "      <td>128_32_0.001</td>\n",
       "      <td>6.753M</td>\n",
       "      <td>15.751G</td>\n",
       "      <td>3.4 s</td>\n",
       "    </tr>\n",
       "    <tr>\n",
       "      <th>1</th>\n",
       "      <td>GoogLeNet</td>\n",
       "      <td>0.7315</td>\n",
       "      <td>0.6573</td>\n",
       "      <td>0.7588</td>\n",
       "      <td>0.7011</td>\n",
       "      <td>256_16_0.001</td>\n",
       "      <td>6.753M</td>\n",
       "      <td>31.446G</td>\n",
       "      <td>4.58 s</td>\n",
       "    </tr>\n",
       "    <tr>\n",
       "      <th>2</th>\n",
       "      <td>GoogLeNet</td>\n",
       "      <td>0.7291</td>\n",
       "      <td>0.6651</td>\n",
       "      <td>0.7314</td>\n",
       "      <td>0.6729</td>\n",
       "      <td>256_32_0.001</td>\n",
       "      <td>6.753M</td>\n",
       "      <td>62.892G</td>\n",
       "      <td>4.5 s</td>\n",
       "    </tr>\n",
       "    <tr>\n",
       "      <th>3</th>\n",
       "      <td>GoogLeNet</td>\n",
       "      <td>0.7500</td>\n",
       "      <td>0.7027</td>\n",
       "      <td>0.7499</td>\n",
       "      <td>0.6823</td>\n",
       "      <td>256_64_0.0001</td>\n",
       "      <td>6.753M</td>\n",
       "      <td>125.784G</td>\n",
       "      <td>4.45 s</td>\n",
       "    </tr>\n",
       "    <tr>\n",
       "      <th>4</th>\n",
       "      <td>GoogLeNet</td>\n",
       "      <td>0.7363</td>\n",
       "      <td>0.6761</td>\n",
       "      <td>0.7356</td>\n",
       "      <td>0.6729</td>\n",
       "      <td>256_64_0.001</td>\n",
       "      <td>6.753M</td>\n",
       "      <td>125.784G</td>\n",
       "      <td>4.51 s</td>\n",
       "    </tr>\n",
       "    <tr>\n",
       "      <th>5</th>\n",
       "      <td>GoogLeNet</td>\n",
       "      <td>0.6447</td>\n",
       "      <td>0.5947</td>\n",
       "      <td>0.6294</td>\n",
       "      <td>0.5900</td>\n",
       "      <td>256_64_0.01</td>\n",
       "      <td>6.753M</td>\n",
       "      <td>125.784G</td>\n",
       "      <td>4.43 s</td>\n",
       "    </tr>\n",
       "    <tr>\n",
       "      <th>6</th>\n",
       "      <td>GoogLeNet</td>\n",
       "      <td>0.7373</td>\n",
       "      <td>0.6541</td>\n",
       "      <td>0.7417</td>\n",
       "      <td>0.6714</td>\n",
       "      <td>512_32_0.001</td>\n",
       "      <td>6.753M</td>\n",
       "      <td>251.457G</td>\n",
       "      <td>9.91 s</td>\n",
       "    </tr>\n",
       "  </tbody>\n",
       "</table>\n",
       "</div>"
      ],
      "text/plain": [
       "       model  val_auc  val_acc  test_auc  test_acc hyper_parameters  \\\n",
       "0  GoogLeNet   0.6749   0.6322    0.6714    0.6338     128_32_0.001   \n",
       "1  GoogLeNet   0.7315   0.6573    0.7588    0.7011     256_16_0.001   \n",
       "2  GoogLeNet   0.7291   0.6651    0.7314    0.6729     256_32_0.001   \n",
       "3  GoogLeNet   0.7500   0.7027    0.7499    0.6823    256_64_0.0001   \n",
       "4  GoogLeNet   0.7363   0.6761    0.7356    0.6729     256_64_0.001   \n",
       "5  GoogLeNet   0.6447   0.5947    0.6294    0.5900      256_64_0.01   \n",
       "6  GoogLeNet   0.7373   0.6541    0.7417    0.6714     512_32_0.001   \n",
       "\n",
       "  parameters     FLOPS Time Consuming  \n",
       "0     6.753M   15.751G          3.4 s  \n",
       "1     6.753M   31.446G         4.58 s  \n",
       "2     6.753M   62.892G          4.5 s  \n",
       "3     6.753M  125.784G         4.45 s  \n",
       "4     6.753M  125.784G         4.51 s  \n",
       "5     6.753M  125.784G         4.43 s  \n",
       "6     6.753M  251.457G         9.91 s  "
      ]
     },
     "execution_count": 8,
     "metadata": {},
     "output_type": "execute_result"
    }
   ],
   "source": [
    "import pandas as pd\n",
    "# I have included the result csv file, it can reproduced in experiment notebook\n",
    "hyper_tuning_df = pd.read_csv(\"saved/result/hyper_tuning.csv\")\n",
    "hyper_tuning_df"
   ]
  },
  {
   "cell_type": "code",
   "execution_count": 9,
   "metadata": {
    "pycharm": {
     "name": "#%%\n"
    }
   },
   "outputs": [
    {
     "name": "stdout",
     "output_type": "stream",
     "text": [
      "\\begin{tabular}{lrrrrllll}\n",
      "\\toprule\n",
      "    model &  val\\_auc &  val\\_acc &  test\\_auc &  test\\_acc & hyper\\_parameters & parameters &    FLOPS & Time Consuming \\\\\n",
      "\\midrule\n",
      "GoogLeNet &   0.6749 &   0.6322 &    0.6714 &    0.6338 &     128\\_32\\_0.001 &     6.753M &  15.751G &          3.4 s \\\\\n",
      "GoogLeNet &   0.7315 &   0.6573 &    0.7588 &    0.7011 &     256\\_16\\_0.001 &     6.753M &  31.446G &         4.58 s \\\\\n",
      "GoogLeNet &   0.7291 &   0.6651 &    0.7314 &    0.6729 &     256\\_32\\_0.001 &     6.753M &  62.892G &          4.5 s \\\\\n",
      "GoogLeNet &   0.7500 &   0.7027 &    0.7499 &    0.6823 &    256\\_64\\_0.0001 &     6.753M & 125.784G &         4.45 s \\\\\n",
      "GoogLeNet &   0.7363 &   0.6761 &    0.7356 &    0.6729 &     256\\_64\\_0.001 &     6.753M & 125.784G &         4.51 s \\\\\n",
      "GoogLeNet &   0.6447 &   0.5947 &    0.6294 &    0.5900 &      256\\_64\\_0.01 &     6.753M & 125.784G &         4.43 s \\\\\n",
      "GoogLeNet &   0.7373 &   0.6541 &    0.7417 &    0.6714 &     512\\_32\\_0.001 &     6.753M & 251.457G &         9.91 s \\\\\n",
      "\\bottomrule\n",
      "\\end{tabular}\n",
      "\n"
     ]
    }
   ],
   "source": [
    "print(hyper_tuning_df.to_latex(index=False))"
   ]
  },
  {
   "cell_type": "markdown",
   "metadata": {
    "pycharm": {
     "name": "#%% md\n"
    }
   },
   "source": [
    "As presented in the above table, the accuracy and AUC of the model increase with the increase of the image size,\n",
    "while the running speed (measured by FLOPS) gradually slows down.\n",
    "The memory usage of the model is directly proportional to the batch size and image size,\n",
    "and the batch size has a relatively small impact on the performance of the model.\n",
    "Therefore, when the GPU memory is insufficient, the problem is mainly solved by reducing the batch size.\n",
    "The setup of learning rate affects the performance a lot, and a relatively small learning rate can improve the performance of models.\n"
   ]
  },
  {
   "cell_type": "code",
   "execution_count": 6,
   "metadata": {
    "pycharm": {
     "name": "#%%\n"
    }
   },
   "outputs": [
    {
     "data": {
      "text/html": [
       "<div>\n",
       "<style scoped>\n",
       "    .dataframe tbody tr th:only-of-type {\n",
       "        vertical-align: middle;\n",
       "    }\n",
       "\n",
       "    .dataframe tbody tr th {\n",
       "        vertical-align: top;\n",
       "    }\n",
       "\n",
       "    .dataframe thead th {\n",
       "        text-align: right;\n",
       "    }\n",
       "</style>\n",
       "<table border=\"1\" class=\"dataframe\">\n",
       "  <thead>\n",
       "    <tr style=\"text-align: right;\">\n",
       "      <th></th>\n",
       "      <th>model</th>\n",
       "      <th>val_auc</th>\n",
       "      <th>val_acc</th>\n",
       "      <th>test_auc</th>\n",
       "      <th>test_acc</th>\n",
       "      <th>parameters</th>\n",
       "      <th>FLOPS</th>\n",
       "      <th>Time Consuming</th>\n",
       "    </tr>\n",
       "  </thead>\n",
       "  <tbody>\n",
       "    <tr>\n",
       "      <th>0</th>\n",
       "      <td>resnet34</td>\n",
       "      <td>0.7330</td>\n",
       "      <td>0.6635</td>\n",
       "      <td>0.7795</td>\n",
       "      <td>0.7089</td>\n",
       "      <td>21.926M</td>\n",
       "      <td>153.443G</td>\n",
       "      <td>5.42s</td>\n",
       "    </tr>\n",
       "    <tr>\n",
       "      <th>1</th>\n",
       "      <td>resnet50</td>\n",
       "      <td>0.7165</td>\n",
       "      <td>0.6541</td>\n",
       "      <td>0.7639</td>\n",
       "      <td>0.6854</td>\n",
       "      <td>25.685M</td>\n",
       "      <td>171.829G</td>\n",
       "      <td>5.59s</td>\n",
       "    </tr>\n",
       "    <tr>\n",
       "      <th>2</th>\n",
       "      <td>resnet101</td>\n",
       "      <td>0.7441</td>\n",
       "      <td>0.6557</td>\n",
       "      <td>0.7645</td>\n",
       "      <td>0.6948</td>\n",
       "      <td>44.678M</td>\n",
       "      <td>327.412G</td>\n",
       "      <td>7.02s</td>\n",
       "    </tr>\n",
       "    <tr>\n",
       "      <th>3</th>\n",
       "      <td>resnet152</td>\n",
       "      <td>0.7357</td>\n",
       "      <td>0.6573</td>\n",
       "      <td>0.7619</td>\n",
       "      <td>0.7027</td>\n",
       "      <td>60.321M</td>\n",
       "      <td>483.096G</td>\n",
       "      <td>8.71s</td>\n",
       "    </tr>\n",
       "    <tr>\n",
       "      <th>4</th>\n",
       "      <td>vgg11_bn</td>\n",
       "      <td>0.7389</td>\n",
       "      <td>0.6635</td>\n",
       "      <td>0.7554</td>\n",
       "      <td>0.6839</td>\n",
       "      <td>132.997M</td>\n",
       "      <td>317.755G</td>\n",
       "      <td>5.85s</td>\n",
       "    </tr>\n",
       "    <tr>\n",
       "      <th>5</th>\n",
       "      <td>vgg13_bn</td>\n",
       "      <td>0.7280</td>\n",
       "      <td>0.6510</td>\n",
       "      <td>0.7524</td>\n",
       "      <td>0.6776</td>\n",
       "      <td>133.182M</td>\n",
       "      <td>472.977G</td>\n",
       "      <td>7.4s</td>\n",
       "    </tr>\n",
       "    <tr>\n",
       "      <th>6</th>\n",
       "      <td>vgg16_bn</td>\n",
       "      <td>0.7265</td>\n",
       "      <td>0.6588</td>\n",
       "      <td>0.7732</td>\n",
       "      <td>0.7089</td>\n",
       "      <td>138.494M</td>\n",
       "      <td>647.087G</td>\n",
       "      <td>8.0s</td>\n",
       "    </tr>\n",
       "    <tr>\n",
       "      <th>7</th>\n",
       "      <td>vgg19_bn</td>\n",
       "      <td>0.7179</td>\n",
       "      <td>0.6322</td>\n",
       "      <td>0.7520</td>\n",
       "      <td>0.6792</td>\n",
       "      <td>143.807M</td>\n",
       "      <td>821.197G</td>\n",
       "      <td>8.49s</td>\n",
       "    </tr>\n",
       "    <tr>\n",
       "      <th>8</th>\n",
       "      <td>densenet121</td>\n",
       "      <td>0.7419</td>\n",
       "      <td>0.6604</td>\n",
       "      <td>0.7647</td>\n",
       "      <td>0.6870</td>\n",
       "      <td>8.107M</td>\n",
       "      <td>119.767G</td>\n",
       "      <td>6.26s</td>\n",
       "    </tr>\n",
       "    <tr>\n",
       "      <th>9</th>\n",
       "      <td>densenet169</td>\n",
       "      <td>0.7683</td>\n",
       "      <td>0.6980</td>\n",
       "      <td>0.7760</td>\n",
       "      <td>0.7074</td>\n",
       "      <td>14.278M</td>\n",
       "      <td>142.013G</td>\n",
       "      <td>6.8s</td>\n",
       "    </tr>\n",
       "    <tr>\n",
       "      <th>10</th>\n",
       "      <td>densenet201</td>\n",
       "      <td>0.7372</td>\n",
       "      <td>0.6620</td>\n",
       "      <td>0.7616</td>\n",
       "      <td>0.7042</td>\n",
       "      <td>20.142M</td>\n",
       "      <td>181.420G</td>\n",
       "      <td>7.93s</td>\n",
       "    </tr>\n",
       "    <tr>\n",
       "      <th>11</th>\n",
       "      <td>densenet161</td>\n",
       "      <td>0.7326</td>\n",
       "      <td>0.6526</td>\n",
       "      <td>0.7814</td>\n",
       "      <td>0.7042</td>\n",
       "      <td>28.809M</td>\n",
       "      <td>325.448G</td>\n",
       "      <td>9.07s</td>\n",
       "    </tr>\n",
       "  </tbody>\n",
       "</table>\n",
       "</div>"
      ],
      "text/plain": [
       "          model  val_auc  val_acc  test_auc  test_acc parameters     FLOPS  \\\n",
       "0      resnet34   0.7330   0.6635    0.7795    0.7089    21.926M  153.443G   \n",
       "1      resnet50   0.7165   0.6541    0.7639    0.6854    25.685M  171.829G   \n",
       "2     resnet101   0.7441   0.6557    0.7645    0.6948    44.678M  327.412G   \n",
       "3     resnet152   0.7357   0.6573    0.7619    0.7027    60.321M  483.096G   \n",
       "4      vgg11_bn   0.7389   0.6635    0.7554    0.6839   132.997M  317.755G   \n",
       "5      vgg13_bn   0.7280   0.6510    0.7524    0.6776   133.182M  472.977G   \n",
       "6      vgg16_bn   0.7265   0.6588    0.7732    0.7089   138.494M  647.087G   \n",
       "7      vgg19_bn   0.7179   0.6322    0.7520    0.6792   143.807M  821.197G   \n",
       "8   densenet121   0.7419   0.6604    0.7647    0.6870     8.107M  119.767G   \n",
       "9   densenet169   0.7683   0.6980    0.7760    0.7074    14.278M  142.013G   \n",
       "10  densenet201   0.7372   0.6620    0.7616    0.7042    20.142M  181.420G   \n",
       "11  densenet161   0.7326   0.6526    0.7814    0.7042    28.809M  325.448G   \n",
       "\n",
       "   Time Consuming  \n",
       "0           5.42s  \n",
       "1           5.59s  \n",
       "2           7.02s  \n",
       "3           8.71s  \n",
       "4           5.85s  \n",
       "5            7.4s  \n",
       "6            8.0s  \n",
       "7           8.49s  \n",
       "8           6.26s  \n",
       "9            6.8s  \n",
       "10          7.93s  \n",
       "11          9.07s  "
      ]
     },
     "execution_count": 6,
     "metadata": {},
     "output_type": "execute_result"
    }
   ],
   "source": [
    "pretrained_results = pd.read_csv(\"saved/result/pretrained_model_compare.csv\")\n",
    "pretrained_results"
   ]
  },
  {
   "cell_type": "code",
   "execution_count": 7,
   "metadata": {
    "pycharm": {
     "name": "#%%\n"
    }
   },
   "outputs": [
    {
     "name": "stdout",
     "output_type": "stream",
     "text": [
      "\\begin{tabular}{lrrrrlll}\n",
      "\\toprule\n",
      "      model &  val\\_auc &  val\\_acc &  test\\_auc &  test\\_acc & parameters &    FLOPS & Time Consuming \\\\\n",
      "\\midrule\n",
      "   resnet34 &   0.7330 &   0.6635 &    0.7795 &    0.7089 &    21.926M & 153.443G &          5.42s \\\\\n",
      "   resnet50 &   0.7165 &   0.6541 &    0.7639 &    0.6854 &    25.685M & 171.829G &          5.59s \\\\\n",
      "  resnet101 &   0.7441 &   0.6557 &    0.7645 &    0.6948 &    44.678M & 327.412G &          7.02s \\\\\n",
      "  resnet152 &   0.7357 &   0.6573 &    0.7619 &    0.7027 &    60.321M & 483.096G &          8.71s \\\\\n",
      "   vgg11\\_bn &   0.7389 &   0.6635 &    0.7554 &    0.6839 &   132.997M & 317.755G &          5.85s \\\\\n",
      "   vgg13\\_bn &   0.7280 &   0.6510 &    0.7524 &    0.6776 &   133.182M & 472.977G &           7.4s \\\\\n",
      "   vgg16\\_bn &   0.7265 &   0.6588 &    0.7732 &    0.7089 &   138.494M & 647.087G &           8.0s \\\\\n",
      "   vgg19\\_bn &   0.7179 &   0.6322 &    0.7520 &    0.6792 &   143.807M & 821.197G &          8.49s \\\\\n",
      "densenet121 &   0.7419 &   0.6604 &    0.7647 &    0.6870 &     8.107M & 119.767G &          6.26s \\\\\n",
      "densenet169 &   0.7683 &   0.6980 &    0.7760 &    0.7074 &    14.278M & 142.013G &           6.8s \\\\\n",
      "densenet201 &   0.7372 &   0.6620 &    0.7616 &    0.7042 &    20.142M & 181.420G &          7.93s \\\\\n",
      "densenet161 &   0.7326 &   0.6526 &    0.7814 &    0.7042 &    28.809M & 325.448G &          9.07s \\\\\n",
      "\\bottomrule\n",
      "\\end{tabular}\n",
      "\n"
     ]
    }
   ],
   "source": [
    "print(pretrained_results.to_latex(index=False))\n"
   ]
  },
  {
   "cell_type": "markdown",
   "metadata": {
    "pycharm": {
     "name": "#%% md\n"
    }
   },
   "source": [
    "The performance of these three models is very similar.\n",
    "In general, for a deep structure model, the more deep network layers the model has, the more parameters and GPU resources are occupied, and the more time is consumed.\n",
    "But from the ACC and AUC results in Table above, a deeper model does not necessarily perform better.\n",
    "Therefore, the choice of a model needs to be considered based on the actual situation.\n",
    "For example, when a fast response is required, the faster running model should be prioritized, such as ResNet34,\n",
    "and when the memory resources are not so sufficient, DenseNet121 may be a considerable one."
   ]
  },
  {
   "cell_type": "code",
   "execution_count": null,
   "metadata": {
    "pycharm": {
     "name": "#%%\n"
    }
   },
   "outputs": [],
   "source": []
  }
 ],
 "metadata": {
  "kernelspec": {
   "display_name": "Python 3",
   "language": "python",
   "name": "python3"
  },
  "language_info": {
   "codemirror_mode": {
    "name": "ipython",
    "version": 3
   },
   "file_extension": ".py",
   "mimetype": "text/x-python",
   "name": "python",
   "nbconvert_exporter": "python",
   "pygments_lexer": "ipython3",
   "version": "3.7.6"
  }
 },
 "nbformat": 4,
 "nbformat_minor": 1
}